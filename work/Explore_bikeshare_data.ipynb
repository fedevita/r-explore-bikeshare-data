{
 "cells": [
  {
   "cell_type": "markdown",
   "id": "d990c5de-5cae-416d-a941-6fd926e00146",
   "metadata": {},
   "source": [
    "### Explore Bike Share Data\r\n",
    "\r\n",
    "For this project, your goal is to ask and answer three questions about the available bikeshare data from Washington, Chicago, and New York.  This notebook can be submitted directly through the workspace when you are confident in your results.\r\n",
    "\r\n",
    "You will be graded against the project [Rubric](https://review.udacity.com/#!/rubrics/2508/view) by a mentor after you have submitted.  To get you started, you can use the template below, but feel free to be creative in your solutions!"
   ]
  },
  {
   "cell_type": "code",
   "execution_count": 15,
   "id": "4bc2527f-5522-4a00-92b2-54c6ae72668e",
   "metadata": {},
   "outputs": [],
   "source": [
    "ny = read.csv('new-york-city.csv')\n",
    "wash = read.csv('washington.csv')\n",
    "chi = read.csv('chicago.csv')"
   ]
  },
  {
   "cell_type": "code",
   "execution_count": 16,
   "id": "a515fe68-2c80-42c2-8c73-b096b729bded",
   "metadata": {},
   "outputs": [
    {
     "data": {
      "text/html": [
       "<table class=\"dataframe\">\n",
       "<caption>A data.frame: 6 × 9</caption>\n",
       "<thead>\n",
       "\t<tr><th></th><th scope=col>X</th><th scope=col>Start.Time</th><th scope=col>End.Time</th><th scope=col>Trip.Duration</th><th scope=col>Start.Station</th><th scope=col>End.Station</th><th scope=col>User.Type</th><th scope=col>Gender</th><th scope=col>Birth.Year</th></tr>\n",
       "\t<tr><th></th><th scope=col>&lt;int&gt;</th><th scope=col>&lt;chr&gt;</th><th scope=col>&lt;chr&gt;</th><th scope=col>&lt;int&gt;</th><th scope=col>&lt;chr&gt;</th><th scope=col>&lt;chr&gt;</th><th scope=col>&lt;chr&gt;</th><th scope=col>&lt;chr&gt;</th><th scope=col>&lt;dbl&gt;</th></tr>\n",
       "</thead>\n",
       "<tbody>\n",
       "\t<tr><th scope=row>1</th><td>5688089</td><td>2017-06-11 14:55:05</td><td>2017-06-11 15:08:21</td><td> 795</td><td>Suffolk St &amp; Stanton St</td><td>W Broadway &amp; Spring St</td><td>Subscriber</td><td><span style=white-space:pre-wrap>Male  </span></td><td>1998</td></tr>\n",
       "\t<tr><th scope=row>2</th><td>4096714</td><td>2017-05-11 15:30:11</td><td>2017-05-11 15:41:43</td><td> 692</td><td>Lexington Ave &amp; E 63 St</td><td><span style=white-space:pre-wrap>1 Ave &amp; E 78 St       </span></td><td>Subscriber</td><td><span style=white-space:pre-wrap>Male  </span></td><td>1981</td></tr>\n",
       "\t<tr><th scope=row>3</th><td>2173887</td><td>2017-03-29 13:26:26</td><td>2017-03-29 13:48:31</td><td>1325</td><td><span style=white-space:pre-wrap>1 Pl &amp; Clinton St      </span></td><td><span style=white-space:pre-wrap>Henry St &amp; Degraw St  </span></td><td>Subscriber</td><td><span style=white-space:pre-wrap>Male  </span></td><td>1987</td></tr>\n",
       "\t<tr><th scope=row>4</th><td>3945638</td><td>2017-05-08 19:47:18</td><td>2017-05-08 19:59:01</td><td> 703</td><td><span style=white-space:pre-wrap>Barrow St &amp; Hudson St  </span></td><td><span style=white-space:pre-wrap>W 20 St &amp; 8 Ave       </span></td><td>Subscriber</td><td>Female</td><td>1986</td></tr>\n",
       "\t<tr><th scope=row>5</th><td>6208972</td><td>2017-06-21 07:49:16</td><td>2017-06-21 07:54:46</td><td> 329</td><td><span style=white-space:pre-wrap>1 Ave &amp; E 44 St        </span></td><td><span style=white-space:pre-wrap>E 53 St &amp; 3 Ave       </span></td><td>Subscriber</td><td><span style=white-space:pre-wrap>Male  </span></td><td>1992</td></tr>\n",
       "\t<tr><th scope=row>6</th><td>1285652</td><td>2017-02-22 18:55:24</td><td>2017-02-22 19:12:03</td><td> 998</td><td><span style=white-space:pre-wrap>State St &amp; Smith St    </span></td><td><span style=white-space:pre-wrap>Bond St &amp; Fulton St   </span></td><td>Subscriber</td><td><span style=white-space:pre-wrap>Male  </span></td><td>1986</td></tr>\n",
       "</tbody>\n",
       "</table>\n"
      ],
      "text/latex": [
       "A data.frame: 6 × 9\n",
       "\\begin{tabular}{r|lllllllll}\n",
       "  & X & Start.Time & End.Time & Trip.Duration & Start.Station & End.Station & User.Type & Gender & Birth.Year\\\\\n",
       "  & <int> & <chr> & <chr> & <int> & <chr> & <chr> & <chr> & <chr> & <dbl>\\\\\n",
       "\\hline\n",
       "\t1 & 5688089 & 2017-06-11 14:55:05 & 2017-06-11 15:08:21 &  795 & Suffolk St \\& Stanton St & W Broadway \\& Spring St & Subscriber & Male   & 1998\\\\\n",
       "\t2 & 4096714 & 2017-05-11 15:30:11 & 2017-05-11 15:41:43 &  692 & Lexington Ave \\& E 63 St & 1 Ave \\& E 78 St        & Subscriber & Male   & 1981\\\\\n",
       "\t3 & 2173887 & 2017-03-29 13:26:26 & 2017-03-29 13:48:31 & 1325 & 1 Pl \\& Clinton St       & Henry St \\& Degraw St   & Subscriber & Male   & 1987\\\\\n",
       "\t4 & 3945638 & 2017-05-08 19:47:18 & 2017-05-08 19:59:01 &  703 & Barrow St \\& Hudson St   & W 20 St \\& 8 Ave        & Subscriber & Female & 1986\\\\\n",
       "\t5 & 6208972 & 2017-06-21 07:49:16 & 2017-06-21 07:54:46 &  329 & 1 Ave \\& E 44 St         & E 53 St \\& 3 Ave        & Subscriber & Male   & 1992\\\\\n",
       "\t6 & 1285652 & 2017-02-22 18:55:24 & 2017-02-22 19:12:03 &  998 & State St \\& Smith St     & Bond St \\& Fulton St    & Subscriber & Male   & 1986\\\\\n",
       "\\end{tabular}\n"
      ],
      "text/markdown": [
       "\n",
       "A data.frame: 6 × 9\n",
       "\n",
       "| <!--/--> | X &lt;int&gt; | Start.Time &lt;chr&gt; | End.Time &lt;chr&gt; | Trip.Duration &lt;int&gt; | Start.Station &lt;chr&gt; | End.Station &lt;chr&gt; | User.Type &lt;chr&gt; | Gender &lt;chr&gt; | Birth.Year &lt;dbl&gt; |\n",
       "|---|---|---|---|---|---|---|---|---|---|\n",
       "| 1 | 5688089 | 2017-06-11 14:55:05 | 2017-06-11 15:08:21 |  795 | Suffolk St &amp; Stanton St | W Broadway &amp; Spring St | Subscriber | Male   | 1998 |\n",
       "| 2 | 4096714 | 2017-05-11 15:30:11 | 2017-05-11 15:41:43 |  692 | Lexington Ave &amp; E 63 St | 1 Ave &amp; E 78 St        | Subscriber | Male   | 1981 |\n",
       "| 3 | 2173887 | 2017-03-29 13:26:26 | 2017-03-29 13:48:31 | 1325 | 1 Pl &amp; Clinton St       | Henry St &amp; Degraw St   | Subscriber | Male   | 1987 |\n",
       "| 4 | 3945638 | 2017-05-08 19:47:18 | 2017-05-08 19:59:01 |  703 | Barrow St &amp; Hudson St   | W 20 St &amp; 8 Ave        | Subscriber | Female | 1986 |\n",
       "| 5 | 6208972 | 2017-06-21 07:49:16 | 2017-06-21 07:54:46 |  329 | 1 Ave &amp; E 44 St         | E 53 St &amp; 3 Ave        | Subscriber | Male   | 1992 |\n",
       "| 6 | 1285652 | 2017-02-22 18:55:24 | 2017-02-22 19:12:03 |  998 | State St &amp; Smith St     | Bond St &amp; Fulton St    | Subscriber | Male   | 1986 |\n",
       "\n"
      ],
      "text/plain": [
       "  X       Start.Time          End.Time            Trip.Duration\n",
       "1 5688089 2017-06-11 14:55:05 2017-06-11 15:08:21  795         \n",
       "2 4096714 2017-05-11 15:30:11 2017-05-11 15:41:43  692         \n",
       "3 2173887 2017-03-29 13:26:26 2017-03-29 13:48:31 1325         \n",
       "4 3945638 2017-05-08 19:47:18 2017-05-08 19:59:01  703         \n",
       "5 6208972 2017-06-21 07:49:16 2017-06-21 07:54:46  329         \n",
       "6 1285652 2017-02-22 18:55:24 2017-02-22 19:12:03  998         \n",
       "  Start.Station           End.Station            User.Type  Gender Birth.Year\n",
       "1 Suffolk St & Stanton St W Broadway & Spring St Subscriber Male   1998      \n",
       "2 Lexington Ave & E 63 St 1 Ave & E 78 St        Subscriber Male   1981      \n",
       "3 1 Pl & Clinton St       Henry St & Degraw St   Subscriber Male   1987      \n",
       "4 Barrow St & Hudson St   W 20 St & 8 Ave        Subscriber Female 1986      \n",
       "5 1 Ave & E 44 St         E 53 St & 3 Ave        Subscriber Male   1992      \n",
       "6 State St & Smith St     Bond St & Fulton St    Subscriber Male   1986      "
      ]
     },
     "metadata": {},
     "output_type": "display_data"
    }
   ],
   "source": [
    "head(ny)"
   ]
  },
  {
   "cell_type": "code",
   "execution_count": 17,
   "id": "0cdb5409-90f4-4757-9684-b0f5a70cfa2f",
   "metadata": {},
   "outputs": [
    {
     "data": {
      "text/html": [
       "<table class=\"dataframe\">\n",
       "<caption>A data.frame: 6 × 7</caption>\n",
       "<thead>\n",
       "\t<tr><th></th><th scope=col>X</th><th scope=col>Start.Time</th><th scope=col>End.Time</th><th scope=col>Trip.Duration</th><th scope=col>Start.Station</th><th scope=col>End.Station</th><th scope=col>User.Type</th></tr>\n",
       "\t<tr><th></th><th scope=col>&lt;int&gt;</th><th scope=col>&lt;chr&gt;</th><th scope=col>&lt;chr&gt;</th><th scope=col>&lt;dbl&gt;</th><th scope=col>&lt;chr&gt;</th><th scope=col>&lt;chr&gt;</th><th scope=col>&lt;chr&gt;</th></tr>\n",
       "</thead>\n",
       "<tbody>\n",
       "\t<tr><th scope=row>1</th><td>1621326</td><td>2017-06-21 08:36:34</td><td>2017-06-21 08:44:43</td><td> 489.066</td><td><span style=white-space:pre-wrap>14th &amp; Belmont St NW                       </span></td><td><span style=white-space:pre-wrap>15th &amp; K St NW                                     </span></td><td>Subscriber</td></tr>\n",
       "\t<tr><th scope=row>2</th><td> 482740</td><td>2017-03-11 10:40:00</td><td>2017-03-11 10:46:00</td><td> 402.549</td><td><span style=white-space:pre-wrap>Yuma St &amp; Tenley Circle NW                 </span></td><td><span style=white-space:pre-wrap>Connecticut Ave &amp; Yuma St NW                       </span></td><td>Subscriber</td></tr>\n",
       "\t<tr><th scope=row>3</th><td>1330037</td><td>2017-05-30 01:02:59</td><td>2017-05-30 01:13:37</td><td> 637.251</td><td><span style=white-space:pre-wrap>17th St &amp; Massachusetts Ave NW             </span></td><td><span style=white-space:pre-wrap>5th &amp; K St NW                                      </span></td><td>Subscriber</td></tr>\n",
       "\t<tr><th scope=row>4</th><td> 665458</td><td>2017-04-02 07:48:35</td><td>2017-04-02 08:19:03</td><td>1827.341</td><td><span style=white-space:pre-wrap>Constitution Ave &amp; 2nd St NW/DOL           </span></td><td><span style=white-space:pre-wrap>M St &amp; Pennsylvania Ave NW                         </span></td><td><span style=white-space:pre-wrap>Customer  </span></td></tr>\n",
       "\t<tr><th scope=row>5</th><td>1481135</td><td>2017-06-10 08:36:28</td><td>2017-06-10 09:02:17</td><td>1549.427</td><td>Henry Bacon Dr &amp; Lincoln Memorial Circle NW</td><td><span style=white-space:pre-wrap>Maine Ave &amp; 7th St SW                              </span></td><td>Subscriber</td></tr>\n",
       "\t<tr><th scope=row>6</th><td>1148202</td><td>2017-05-14 07:18:18</td><td>2017-05-14 07:24:56</td><td> 398.000</td><td><span style=white-space:pre-wrap>1st &amp; K St SE                              </span></td><td>Eastern Market Metro / Pennsylvania Ave &amp; 7th St SE</td><td>Subscriber</td></tr>\n",
       "</tbody>\n",
       "</table>\n"
      ],
      "text/latex": [
       "A data.frame: 6 × 7\n",
       "\\begin{tabular}{r|lllllll}\n",
       "  & X & Start.Time & End.Time & Trip.Duration & Start.Station & End.Station & User.Type\\\\\n",
       "  & <int> & <chr> & <chr> & <dbl> & <chr> & <chr> & <chr>\\\\\n",
       "\\hline\n",
       "\t1 & 1621326 & 2017-06-21 08:36:34 & 2017-06-21 08:44:43 &  489.066 & 14th \\& Belmont St NW                        & 15th \\& K St NW                                      & Subscriber\\\\\n",
       "\t2 &  482740 & 2017-03-11 10:40:00 & 2017-03-11 10:46:00 &  402.549 & Yuma St \\& Tenley Circle NW                  & Connecticut Ave \\& Yuma St NW                        & Subscriber\\\\\n",
       "\t3 & 1330037 & 2017-05-30 01:02:59 & 2017-05-30 01:13:37 &  637.251 & 17th St \\& Massachusetts Ave NW              & 5th \\& K St NW                                       & Subscriber\\\\\n",
       "\t4 &  665458 & 2017-04-02 07:48:35 & 2017-04-02 08:19:03 & 1827.341 & Constitution Ave \\& 2nd St NW/DOL            & M St \\& Pennsylvania Ave NW                          & Customer  \\\\\n",
       "\t5 & 1481135 & 2017-06-10 08:36:28 & 2017-06-10 09:02:17 & 1549.427 & Henry Bacon Dr \\& Lincoln Memorial Circle NW & Maine Ave \\& 7th St SW                               & Subscriber\\\\\n",
       "\t6 & 1148202 & 2017-05-14 07:18:18 & 2017-05-14 07:24:56 &  398.000 & 1st \\& K St SE                               & Eastern Market Metro / Pennsylvania Ave \\& 7th St SE & Subscriber\\\\\n",
       "\\end{tabular}\n"
      ],
      "text/markdown": [
       "\n",
       "A data.frame: 6 × 7\n",
       "\n",
       "| <!--/--> | X &lt;int&gt; | Start.Time &lt;chr&gt; | End.Time &lt;chr&gt; | Trip.Duration &lt;dbl&gt; | Start.Station &lt;chr&gt; | End.Station &lt;chr&gt; | User.Type &lt;chr&gt; |\n",
       "|---|---|---|---|---|---|---|---|\n",
       "| 1 | 1621326 | 2017-06-21 08:36:34 | 2017-06-21 08:44:43 |  489.066 | 14th &amp; Belmont St NW                        | 15th &amp; K St NW                                      | Subscriber |\n",
       "| 2 |  482740 | 2017-03-11 10:40:00 | 2017-03-11 10:46:00 |  402.549 | Yuma St &amp; Tenley Circle NW                  | Connecticut Ave &amp; Yuma St NW                        | Subscriber |\n",
       "| 3 | 1330037 | 2017-05-30 01:02:59 | 2017-05-30 01:13:37 |  637.251 | 17th St &amp; Massachusetts Ave NW              | 5th &amp; K St NW                                       | Subscriber |\n",
       "| 4 |  665458 | 2017-04-02 07:48:35 | 2017-04-02 08:19:03 | 1827.341 | Constitution Ave &amp; 2nd St NW/DOL            | M St &amp; Pennsylvania Ave NW                          | Customer   |\n",
       "| 5 | 1481135 | 2017-06-10 08:36:28 | 2017-06-10 09:02:17 | 1549.427 | Henry Bacon Dr &amp; Lincoln Memorial Circle NW | Maine Ave &amp; 7th St SW                               | Subscriber |\n",
       "| 6 | 1148202 | 2017-05-14 07:18:18 | 2017-05-14 07:24:56 |  398.000 | 1st &amp; K St SE                               | Eastern Market Metro / Pennsylvania Ave &amp; 7th St SE | Subscriber |\n",
       "\n"
      ],
      "text/plain": [
       "  X       Start.Time          End.Time            Trip.Duration\n",
       "1 1621326 2017-06-21 08:36:34 2017-06-21 08:44:43  489.066     \n",
       "2  482740 2017-03-11 10:40:00 2017-03-11 10:46:00  402.549     \n",
       "3 1330037 2017-05-30 01:02:59 2017-05-30 01:13:37  637.251     \n",
       "4  665458 2017-04-02 07:48:35 2017-04-02 08:19:03 1827.341     \n",
       "5 1481135 2017-06-10 08:36:28 2017-06-10 09:02:17 1549.427     \n",
       "6 1148202 2017-05-14 07:18:18 2017-05-14 07:24:56  398.000     \n",
       "  Start.Station                              \n",
       "1 14th & Belmont St NW                       \n",
       "2 Yuma St & Tenley Circle NW                 \n",
       "3 17th St & Massachusetts Ave NW             \n",
       "4 Constitution Ave & 2nd St NW/DOL           \n",
       "5 Henry Bacon Dr & Lincoln Memorial Circle NW\n",
       "6 1st & K St SE                              \n",
       "  End.Station                                         User.Type \n",
       "1 15th & K St NW                                      Subscriber\n",
       "2 Connecticut Ave & Yuma St NW                        Subscriber\n",
       "3 5th & K St NW                                       Subscriber\n",
       "4 M St & Pennsylvania Ave NW                          Customer  \n",
       "5 Maine Ave & 7th St SW                               Subscriber\n",
       "6 Eastern Market Metro / Pennsylvania Ave & 7th St SE Subscriber"
      ]
     },
     "metadata": {},
     "output_type": "display_data"
    }
   ],
   "source": [
    "head(wash)"
   ]
  },
  {
   "cell_type": "code",
   "execution_count": 18,
   "id": "6819bc57-5c92-4fb8-af00-ad7c89cb985e",
   "metadata": {},
   "outputs": [
    {
     "data": {
      "text/html": [
       "<table class=\"dataframe\">\n",
       "<caption>A data.frame: 6 × 9</caption>\n",
       "<thead>\n",
       "\t<tr><th></th><th scope=col>X</th><th scope=col>Start.Time</th><th scope=col>End.Time</th><th scope=col>Trip.Duration</th><th scope=col>Start.Station</th><th scope=col>End.Station</th><th scope=col>User.Type</th><th scope=col>Gender</th><th scope=col>Birth.Year</th></tr>\n",
       "\t<tr><th></th><th scope=col>&lt;int&gt;</th><th scope=col>&lt;chr&gt;</th><th scope=col>&lt;chr&gt;</th><th scope=col>&lt;int&gt;</th><th scope=col>&lt;chr&gt;</th><th scope=col>&lt;chr&gt;</th><th scope=col>&lt;chr&gt;</th><th scope=col>&lt;chr&gt;</th><th scope=col>&lt;dbl&gt;</th></tr>\n",
       "</thead>\n",
       "<tbody>\n",
       "\t<tr><th scope=row>1</th><td>1423854</td><td>2017-06-23 15:09:32</td><td>2017-06-23 15:14:53</td><td> 321</td><td><span style=white-space:pre-wrap>Wood St &amp; Hubbard St         </span></td><td><span style=white-space:pre-wrap>Damen Ave &amp; Chicago Ave     </span></td><td>Subscriber</td><td><span style=white-space:pre-wrap>Male  </span></td><td>1992</td></tr>\n",
       "\t<tr><th scope=row>2</th><td> 955915</td><td>2017-05-25 18:19:03</td><td>2017-05-25 18:45:53</td><td>1610</td><td><span style=white-space:pre-wrap>Theater on the Lake          </span></td><td>Sheffield Ave &amp; Waveland Ave</td><td>Subscriber</td><td>Female</td><td>1992</td></tr>\n",
       "\t<tr><th scope=row>3</th><td><span style=white-space:pre-wrap>   9031</span></td><td>2017-01-04 08:27:49</td><td>2017-01-04 08:34:45</td><td> 416</td><td><span style=white-space:pre-wrap>May St &amp; Taylor St           </span></td><td><span style=white-space:pre-wrap>Wood St &amp; Taylor St         </span></td><td>Subscriber</td><td><span style=white-space:pre-wrap>Male  </span></td><td>1981</td></tr>\n",
       "\t<tr><th scope=row>4</th><td> 304487</td><td>2017-03-06 13:49:38</td><td>2017-03-06 13:55:28</td><td> 350</td><td>Christiana Ave &amp; Lawrence Ave</td><td>St. Louis Ave &amp; Balmoral Ave</td><td>Subscriber</td><td><span style=white-space:pre-wrap>Male  </span></td><td>1986</td></tr>\n",
       "\t<tr><th scope=row>5</th><td><span style=white-space:pre-wrap>  45207</span></td><td>2017-01-17 14:53:07</td><td>2017-01-17 15:02:01</td><td> 534</td><td><span style=white-space:pre-wrap>Clark St &amp; Randolph St       </span></td><td>Desplaines St &amp; Jackson Blvd</td><td>Subscriber</td><td><span style=white-space:pre-wrap>Male  </span></td><td>1975</td></tr>\n",
       "\t<tr><th scope=row>6</th><td>1473887</td><td>2017-06-26 09:01:20</td><td>2017-06-26 09:11:06</td><td> 586</td><td>Clinton St &amp; Washington Blvd </td><td><span style=white-space:pre-wrap>Canal St &amp; Taylor St        </span></td><td>Subscriber</td><td><span style=white-space:pre-wrap>Male  </span></td><td>1990</td></tr>\n",
       "</tbody>\n",
       "</table>\n"
      ],
      "text/latex": [
       "A data.frame: 6 × 9\n",
       "\\begin{tabular}{r|lllllllll}\n",
       "  & X & Start.Time & End.Time & Trip.Duration & Start.Station & End.Station & User.Type & Gender & Birth.Year\\\\\n",
       "  & <int> & <chr> & <chr> & <int> & <chr> & <chr> & <chr> & <chr> & <dbl>\\\\\n",
       "\\hline\n",
       "\t1 & 1423854 & 2017-06-23 15:09:32 & 2017-06-23 15:14:53 &  321 & Wood St \\& Hubbard St          & Damen Ave \\& Chicago Ave      & Subscriber & Male   & 1992\\\\\n",
       "\t2 &  955915 & 2017-05-25 18:19:03 & 2017-05-25 18:45:53 & 1610 & Theater on the Lake           & Sheffield Ave \\& Waveland Ave & Subscriber & Female & 1992\\\\\n",
       "\t3 &    9031 & 2017-01-04 08:27:49 & 2017-01-04 08:34:45 &  416 & May St \\& Taylor St            & Wood St \\& Taylor St          & Subscriber & Male   & 1981\\\\\n",
       "\t4 &  304487 & 2017-03-06 13:49:38 & 2017-03-06 13:55:28 &  350 & Christiana Ave \\& Lawrence Ave & St. Louis Ave \\& Balmoral Ave & Subscriber & Male   & 1986\\\\\n",
       "\t5 &   45207 & 2017-01-17 14:53:07 & 2017-01-17 15:02:01 &  534 & Clark St \\& Randolph St        & Desplaines St \\& Jackson Blvd & Subscriber & Male   & 1975\\\\\n",
       "\t6 & 1473887 & 2017-06-26 09:01:20 & 2017-06-26 09:11:06 &  586 & Clinton St \\& Washington Blvd  & Canal St \\& Taylor St         & Subscriber & Male   & 1990\\\\\n",
       "\\end{tabular}\n"
      ],
      "text/markdown": [
       "\n",
       "A data.frame: 6 × 9\n",
       "\n",
       "| <!--/--> | X &lt;int&gt; | Start.Time &lt;chr&gt; | End.Time &lt;chr&gt; | Trip.Duration &lt;int&gt; | Start.Station &lt;chr&gt; | End.Station &lt;chr&gt; | User.Type &lt;chr&gt; | Gender &lt;chr&gt; | Birth.Year &lt;dbl&gt; |\n",
       "|---|---|---|---|---|---|---|---|---|---|\n",
       "| 1 | 1423854 | 2017-06-23 15:09:32 | 2017-06-23 15:14:53 |  321 | Wood St &amp; Hubbard St          | Damen Ave &amp; Chicago Ave      | Subscriber | Male   | 1992 |\n",
       "| 2 |  955915 | 2017-05-25 18:19:03 | 2017-05-25 18:45:53 | 1610 | Theater on the Lake           | Sheffield Ave &amp; Waveland Ave | Subscriber | Female | 1992 |\n",
       "| 3 |    9031 | 2017-01-04 08:27:49 | 2017-01-04 08:34:45 |  416 | May St &amp; Taylor St            | Wood St &amp; Taylor St          | Subscriber | Male   | 1981 |\n",
       "| 4 |  304487 | 2017-03-06 13:49:38 | 2017-03-06 13:55:28 |  350 | Christiana Ave &amp; Lawrence Ave | St. Louis Ave &amp; Balmoral Ave | Subscriber | Male   | 1986 |\n",
       "| 5 |   45207 | 2017-01-17 14:53:07 | 2017-01-17 15:02:01 |  534 | Clark St &amp; Randolph St        | Desplaines St &amp; Jackson Blvd | Subscriber | Male   | 1975 |\n",
       "| 6 | 1473887 | 2017-06-26 09:01:20 | 2017-06-26 09:11:06 |  586 | Clinton St &amp; Washington Blvd  | Canal St &amp; Taylor St         | Subscriber | Male   | 1990 |\n",
       "\n"
      ],
      "text/plain": [
       "  X       Start.Time          End.Time            Trip.Duration\n",
       "1 1423854 2017-06-23 15:09:32 2017-06-23 15:14:53  321         \n",
       "2  955915 2017-05-25 18:19:03 2017-05-25 18:45:53 1610         \n",
       "3    9031 2017-01-04 08:27:49 2017-01-04 08:34:45  416         \n",
       "4  304487 2017-03-06 13:49:38 2017-03-06 13:55:28  350         \n",
       "5   45207 2017-01-17 14:53:07 2017-01-17 15:02:01  534         \n",
       "6 1473887 2017-06-26 09:01:20 2017-06-26 09:11:06  586         \n",
       "  Start.Station                 End.Station                  User.Type  Gender\n",
       "1 Wood St & Hubbard St          Damen Ave & Chicago Ave      Subscriber Male  \n",
       "2 Theater on the Lake           Sheffield Ave & Waveland Ave Subscriber Female\n",
       "3 May St & Taylor St            Wood St & Taylor St          Subscriber Male  \n",
       "4 Christiana Ave & Lawrence Ave St. Louis Ave & Balmoral Ave Subscriber Male  \n",
       "5 Clark St & Randolph St        Desplaines St & Jackson Blvd Subscriber Male  \n",
       "6 Clinton St & Washington Blvd  Canal St & Taylor St         Subscriber Male  \n",
       "  Birth.Year\n",
       "1 1992      \n",
       "2 1992      \n",
       "3 1981      \n",
       "4 1986      \n",
       "5 1975      \n",
       "6 1990      "
      ]
     },
     "metadata": {},
     "output_type": "display_data"
    }
   ],
   "source": [
    "head(chi)"
   ]
  },
  {
   "cell_type": "markdown",
   "id": "2840598a-2a1d-45fc-b137-d55a5858ae63",
   "metadata": {},
   "source": [
    "### Question 1\n",
    "\n",
    "\n",
    "**Your question 1 goes here.**"
   ]
  },
  {
   "cell_type": "code",
   "execution_count": null,
   "id": "817eb7c8-c4c6-4205-a8ce-12adc171998a",
   "metadata": {},
   "outputs": [],
   "source": []
  },
  {
   "cell_type": "markdown",
   "id": "3dae64db-93f6-475d-90ff-9da55772bf5f",
   "metadata": {},
   "source": [
    "**Summary of your question 1 results goes here.**"
   ]
  },
  {
   "cell_type": "markdown",
   "id": "ffa05b56-40fa-401c-a605-1a12cc9af486",
   "metadata": {},
   "source": [
    "### Question 2\r\n",
    "\r\n",
    "**Your question 2 goes here.**"
   ]
  },
  {
   "cell_type": "code",
   "execution_count": null,
   "id": "50e10d0f-f629-46ac-ba02-0bea37c97a50",
   "metadata": {},
   "outputs": [],
   "source": []
  },
  {
   "cell_type": "markdown",
   "id": "8033e0c2-378a-492a-80bc-1042924c7fa7",
   "metadata": {},
   "source": [
    "**Summary of your question 2 results goes here.**"
   ]
  },
  {
   "cell_type": "markdown",
   "id": "f8aec41d-e340-419d-8816-f868db7232a2",
   "metadata": {},
   "source": [
    "### Question 3\n",
    "\n",
    "\n",
    "**Your question 3 goes here.**"
   ]
  },
  {
   "cell_type": "code",
   "execution_count": null,
   "id": "3a46e181-eaae-443f-ab60-dd8d1e3801e6",
   "metadata": {},
   "outputs": [],
   "source": []
  },
  {
   "cell_type": "markdown",
   "id": "4f9ad096-9aa9-4cee-869e-d74ff8c09478",
   "metadata": {},
   "source": [
    "**Summary of your question 2 results goes here.**"
   ]
  },
  {
   "cell_type": "markdown",
   "id": "438ff960-7e86-4833-99c5-02ab2ddbc47f",
   "metadata": {},
   "source": [
    "\r\n",
    "## Finishing Up\r\n",
    "\r\n",
    "> Congratulations!  You have reached the end of the Explore Bikeshare Data Project. You should be very proud of all you have accomplished!\r\n",
    "\r\n",
    "> **Tip**: Once you are satisfied with your work here, check over your report to make sure that it is satisfies all the areas of the [rubric](https://review.udacity.com/#!/rubrics/2508/view). \r\n",
    "\r\n",
    "\r\n",
    "## Directions to Submit\r\n",
    "\r\n",
    "> Before you submit your project, you need to create a .html or .pdf version of this notebook in the workspace here. To do that, run the code cell below. If it worked correctly, you should get a return code of 0, and you should see the generated .html file in the workspace directory (click on the orange Jupyter icon in the upper left).\r\n",
    "\r\n",
    "> Alternatively, you can download this report as .html via the **File** > **Download as** submenu, and then manually upload it into the workspace directory by clicking on the orange Jupyter icon in the upper left, then using the Upload button.\r\n",
    "\r\n",
    "> Once you've done this, you can submit your project by clicking on the \"Submit Project\" button in the lower right here. This will create and submit a zip file with this .ipynb doc and the .html or .pdf version you created. Congratulations!"
   ]
  },
  {
   "cell_type": "code",
   "execution_count": 12,
   "id": "16c0f635-477d-4933-ac2c-d95766197bfa",
   "metadata": {},
   "outputs": [],
   "source": [
    "system('python -m nbconvert --to pdf Explore_bikeshare_data.ipynb')"
   ]
  },
  {
   "cell_type": "markdown",
   "id": "87dc2730-1925-4357-b38a-42ab356469ec",
   "metadata": {},
   "source": []
  }
 ],
 "metadata": {
  "kernelspec": {
   "display_name": "R",
   "language": "R",
   "name": "ir"
  },
  "language_info": {
   "codemirror_mode": "r",
   "file_extension": ".r",
   "mimetype": "text/x-r-source",
   "name": "R",
   "pygments_lexer": "r",
   "version": "4.3.1"
  }
 },
 "nbformat": 4,
 "nbformat_minor": 5
}
