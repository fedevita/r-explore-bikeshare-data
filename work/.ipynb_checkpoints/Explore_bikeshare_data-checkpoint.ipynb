{
 "cells": [
  {
   "cell_type": "markdown",
   "id": "d990c5de-5cae-416d-a941-6fd926e00146",
   "metadata": {},
   "source": [
    "### Explore Bike Share Data\r\n",
    "\r\n",
    "For this project, your goal is to ask and answer three questions about the available bikeshare data from Washington, Chicago, and New York.  This notebook can be submitted directly through the workspace when you are confident in your results.\r\n",
    "\r\n",
    "You will be graded against the project [Rubric](https://review.udacity.com/#!/rubrics/2508/view) by a mentor after you have submitted.  To get you started, you can use the template below, but feel free to be creative in your solutions!"
   ]
  },
  {
   "cell_type": "markdown",
   "id": "09b61d01-603f-4398-8940-9eae9bc7e072",
   "metadata": {},
   "source": [
    "#### Caricamento CSV\n",
    "Carico i csv nei rispettivi dataframe"
   ]
  },
  {
   "cell_type": "code",
   "execution_count": 2,
   "id": "4bc2527f-5522-4a00-92b2-54c6ae72668e",
   "metadata": {},
   "outputs": [],
   "source": [
    "ny = read.csv('new-york-city.csv')\n",
    "wash = read.csv('washington.csv')\n",
    "chi = read.csv('chicago.csv')"
   ]
  },
  {
   "cell_type": "markdown",
   "id": "2fe40346-8b5f-419f-a141-3911f8dfa0ff",
   "metadata": {},
   "source": [
    "#### Analisi Dati e Schema\n",
    "Effettuo un'analisi preliminare dei 3 dataset di partenza utilizzando la funzione summary."
   ]
  },
  {
   "cell_type": "markdown",
   "id": "a1efba3e-0741-4651-85bd-3a290fec189b",
   "metadata": {},
   "source": [
    "##### New York"
   ]
  },
  {
   "cell_type": "code",
   "execution_count": 36,
   "id": "e0472ff8-4e16-4cbb-947d-5c923966335a",
   "metadata": {},
   "outputs": [
    {
     "data": {
      "text/plain": [
       "       X            Start.Time          End.Time         Trip.Duration      \n",
       " Min.   :     33   Length:300000      Length:300000      Min.   :     61.0  \n",
       " 1st Qu.:1707416   Class :character   Class :character   1st Qu.:    368.0  \n",
       " Median :3405756   Mode  :character   Mode  :character   Median :    609.0  \n",
       " Mean   :3407026                                         Mean   :    899.7  \n",
       " 3rd Qu.:5108762                                         3rd Qu.:   1054.0  \n",
       " Max.   :6816152                                         Max.   :2155775.0  \n",
       "                                                                            \n",
       " Start.Station      End.Station         User.Type            Gender         \n",
       " Length:300000      Length:300000      Length:300000      Length:300000     \n",
       " Class :character   Class :character   Class :character   Class :character  \n",
       " Mode  :character   Mode  :character   Mode  :character   Mode  :character  \n",
       "                                                                            \n",
       "                                                                            \n",
       "                                                                            \n",
       "                                                                            \n",
       "   Birth.Year   \n",
       " Min.   :1885   \n",
       " 1st Qu.:1970   \n",
       " Median :1981   \n",
       " Mean   :1978   \n",
       " 3rd Qu.:1988   \n",
       " Max.   :2001   \n",
       " NA's   :28220  "
      ]
     },
     "metadata": {},
     "output_type": "display_data"
    }
   ],
   "source": [
    "summary(ny)"
   ]
  },
  {
   "cell_type": "markdown",
   "id": "e92368a7-7e76-4b71-8dbb-d78b005c8912",
   "metadata": {},
   "source": [
    "##### Washington"
   ]
  },
  {
   "cell_type": "code",
   "execution_count": 37,
   "id": "d23fda34-cd3d-41a8-96b0-015df9756d22",
   "metadata": {},
   "outputs": [
    {
     "data": {
      "text/plain": [
       "       X            Start.Time          End.Time         Trip.Duration      \n",
       " Min.   :      7   Length:300000      Length:300000      Min.   :     60.0  \n",
       " 1st Qu.: 436394   Class :character   Class :character   1st Qu.:    410.6  \n",
       " Median : 875064   Mode  :character   Mode  :character   Median :    706.5  \n",
       " Mean   : 875404                                         Mean   :   1237.3  \n",
       " 3rd Qu.:1313148                                         3rd Qu.:   1229.4  \n",
       " Max.   :1751446                                         Max.   :1235662.2  \n",
       " Start.Station      End.Station         User.Type        \n",
       " Length:300000      Length:300000      Length:300000     \n",
       " Class :character   Class :character   Class :character  \n",
       " Mode  :character   Mode  :character   Mode  :character  \n",
       "                                                         \n",
       "                                                         \n",
       "                                                         "
      ]
     },
     "metadata": {},
     "output_type": "display_data"
    }
   ],
   "source": [
    "summary(wash)"
   ]
  },
  {
   "cell_type": "markdown",
   "id": "68532ff1-26b0-4c6d-b99d-5d7b15c164f2",
   "metadata": {},
   "source": [
    "##### Chicago"
   ]
  },
  {
   "cell_type": "code",
   "execution_count": 38,
   "id": "5acfdff5-e1d9-4bfe-a529-425da7ac831b",
   "metadata": {},
   "outputs": [
    {
     "data": {
      "text/plain": [
       "       X            Start.Time          End.Time         Trip.Duration    \n",
       " Min.   :      4   Length:300000      Length:300000      Min.   :   60.0  \n",
       " 1st Qu.: 387137   Class :character   Class :character   1st Qu.:  393.0  \n",
       " Median : 777104   Mode  :character   Mode  :character   Median :  670.0  \n",
       " Mean   : 776346                                         Mean   :  936.2  \n",
       " 3rd Qu.:1164065                                         3rd Qu.: 1125.0  \n",
       " Max.   :1551500                                         Max.   :86224.0  \n",
       "                                                                          \n",
       " Start.Station      End.Station         User.Type            Gender         \n",
       " Length:300000      Length:300000      Length:300000      Length:300000     \n",
       " Class :character   Class :character   Class :character   Class :character  \n",
       " Mode  :character   Mode  :character   Mode  :character   Mode  :character  \n",
       "                                                                            \n",
       "                                                                            \n",
       "                                                                            \n",
       "                                                                            \n",
       "   Birth.Year   \n",
       " Min.   :1899   \n",
       " 1st Qu.:1975   \n",
       " Median :1984   \n",
       " Mean   :1981   \n",
       " 3rd Qu.:1989   \n",
       " Max.   :2016   \n",
       " NA's   :61019  "
      ]
     },
     "metadata": {},
     "output_type": "display_data"
    }
   ],
   "source": [
    "summary(chi)"
   ]
  },
  {
   "cell_type": "markdown",
   "id": "0d947648-0c14-42c4-9afd-3b1193d18e8b",
   "metadata": {},
   "source": [
    "Da questa analisi si evincono i seguenti punti:\n",
    "- New York: La variabile Birth.Year ha 28,220 valori mancanti.\n",
    "- Chicago: La variabile Birth.Year ha 61,019 valori mancanti, che rappresentano una percentuale significativa del totale.\n",
    "- Washington: Mancano completamente le informazioni su Gender e Birth.Year, limitando l'analisi ai soli dati sui viaggi e alle stazioni."
   ]
  },
  {
   "cell_type": "markdown",
   "id": "aeabd2c0-af2a-479c-8030-ba1967e716f8",
   "metadata": {},
   "source": [
    "#### Data Cleaning e costruzione del dataset finale\n",
    "Di seguito il codice che userò per mergiare i 3 dataframe uniformando ed omologando i campi per ottenere un dataset finale, comprensivo di tutte le informazioni essenziali."
   ]
  },
  {
   "cell_type": "markdown",
   "id": "378c228a-d05b-42b0-8965-ad5422bc19cc",
   "metadata": {},
   "source": [
    "##### New York cleaning and standardizzation"
   ]
  },
  {
   "cell_type": "code",
   "execution_count": 80,
   "id": "d90d178d-42f3-49d1-b3ec-9fc05302f385",
   "metadata": {},
   "outputs": [],
   "source": [
    "names(ny)[names(ny) == \"X\"] <- \"Trip.id\"\n",
    "ny$Birth.Year <- as.integer(ny$Birth.Year)\n",
    "ny$City <- rep('New York', times = nrow(ny))"
   ]
  },
  {
   "cell_type": "markdown",
   "id": "7ef363d5-b3a0-4467-b647-a86d2f9cf022",
   "metadata": {},
   "source": [
    "##### Washington cleaning and standardizzation"
   ]
  },
  {
   "cell_type": "code",
   "execution_count": 81,
   "id": "5ea328ef-0fbd-4f54-8a04-1e51fea5939e",
   "metadata": {},
   "outputs": [],
   "source": [
    "names(wash)[names(wash) == \"X\"] <- \"Trip.id\"\n",
    "wash$Trip.Duration <- as.integer(wash$Trip.Duration)\n",
    "wash$Gender <- as.character(rep(NA, times = nrow(wash)))\n",
    "wash$Birth.Year <- as.integer(rep(NA, times = nrow(wash)))\n",
    "wash$City <- rep('Washington', times = nrow(wash))"
   ]
  },
  {
   "cell_type": "markdown",
   "id": "9aac76ab-ea6a-4c77-b57e-b59d4150e9d3",
   "metadata": {},
   "source": [
    "##### Chicago cleaning and standardizzation"
   ]
  },
  {
   "cell_type": "code",
   "execution_count": 82,
   "id": "616490d7-71da-49a9-add4-b9468c970c95",
   "metadata": {},
   "outputs": [],
   "source": [
    "names(chi)[names(chi) == \"X\"] <- \"Trip.id\"\n",
    "chi$Birth.Year <- as.integer(chi$Birth.Year)\n",
    "chi$City <- rep('Chicago', times = nrow(chi))"
   ]
  },
  {
   "cell_type": "code",
   "execution_count": 83,
   "id": "fa4a8441-a982-4c94-b2b1-2cc910183af9",
   "metadata": {},
   "outputs": [
    {
     "data": {
      "text/plain": [
       "    Trip.id         Start.Time          End.Time         Trip.Duration    \n",
       " Min.   :      4   Length:900000      Length:900000      Min.   :     60  \n",
       " 1st Qu.: 551291   Class :character   Class :character   1st Qu.:    389  \n",
       " Median :1102220   Mode  :character   Mode  :character   Median :    660  \n",
       " Mean   :1686259                                         Mean   :   1024  \n",
       " 3rd Qu.:1742392                                         3rd Qu.:   1135  \n",
       " Max.   :6816152                                         Max.   :2155775  \n",
       "                                                                          \n",
       " Start.Station      End.Station         User.Type            Gender         \n",
       " Length:900000      Length:900000      Length:900000      Length:900000     \n",
       " Class :character   Class :character   Class :character   Class :character  \n",
       " Mode  :character   Mode  :character   Mode  :character   Mode  :character  \n",
       "                                                                            \n",
       "                                                                            \n",
       "                                                                            \n",
       "                                                                            \n",
       "   Birth.Year         City          \n",
       " Min.   :1885     Length:900000     \n",
       " 1st Qu.:1972     Class :character  \n",
       " Median :1983     Mode  :character  \n",
       " Mean   :1980                       \n",
       " 3rd Qu.:1988                       \n",
       " Max.   :2016                       \n",
       " NA's   :389239                     "
      ]
     },
     "metadata": {},
     "output_type": "display_data"
    }
   ],
   "source": [
    "final_ds <- data.frame()\n",
    "final_ds <- rbind(ny,wash,chi)\n",
    "summary(final_ds)"
   ]
  },
  {
   "cell_type": "markdown",
   "id": "2840598a-2a1d-45fc-b137-d55a5858ae63",
   "metadata": {},
   "source": [
    "### Question 1\n",
    "Dividendo per fasce orarie di 3 ore la giornata, qual'è la fascia in cui vi sono più viaggi? c'è differenza tra le città?"
   ]
  },
  {
   "cell_type": "code",
   "execution_count": null,
   "id": "817eb7c8-c4c6-4205-a8ce-12adc171998a",
   "metadata": {},
   "outputs": [],
   "source": []
  },
  {
   "cell_type": "markdown",
   "id": "3dae64db-93f6-475d-90ff-9da55772bf5f",
   "metadata": {},
   "source": [
    "**Summary of your question 1 results goes here.**"
   ]
  },
  {
   "cell_type": "markdown",
   "id": "ffa05b56-40fa-401c-a605-1a12cc9af486",
   "metadata": {},
   "source": [
    "### Question 2\n",
    "Il volume di viaggi varia se il giorno è feriale o festivo?**"
   ]
  },
  {
   "cell_type": "code",
   "execution_count": null,
   "id": "50e10d0f-f629-46ac-ba02-0bea37c97a50",
   "metadata": {},
   "outputs": [],
   "source": []
  },
  {
   "cell_type": "markdown",
   "id": "8033e0c2-378a-492a-80bc-1042924c7fa7",
   "metadata": {},
   "source": [
    "**Summary of your question 2 results goes here.**"
   ]
  },
  {
   "cell_type": "markdown",
   "id": "f8aec41d-e340-419d-8816-f868db7232a2",
   "metadata": {},
   "source": [
    "### Question 3\n",
    "Il target di driver diviso per fascia d'età e sesso sui dati disponibili dove si incentra?"
   ]
  },
  {
   "cell_type": "code",
   "execution_count": null,
   "id": "3a46e181-eaae-443f-ab60-dd8d1e3801e6",
   "metadata": {},
   "outputs": [],
   "source": []
  },
  {
   "cell_type": "markdown",
   "id": "4f9ad096-9aa9-4cee-869e-d74ff8c09478",
   "metadata": {},
   "source": [
    "**Summary of your question 2 results goes here.**"
   ]
  },
  {
   "cell_type": "markdown",
   "id": "438ff960-7e86-4833-99c5-02ab2ddbc47f",
   "metadata": {},
   "source": [
    "\r\n",
    "## Finishing Up\r\n",
    "\r\n",
    "> Congratulations!  You have reached the end of the Explore Bikeshare Data Project. You should be very proud of all you have accomplished!\r\n",
    "\r\n",
    "> **Tip**: Once you are satisfied with your work here, check over your report to make sure that it is satisfies all the areas of the [rubric](https://review.udacity.com/#!/rubrics/2508/view). \r\n",
    "\r\n",
    "\r\n",
    "## Directions to Submit\r\n",
    "\r\n",
    "> Before you submit your project, you need to create a .html or .pdf version of this notebook in the workspace here. To do that, run the code cell below. If it worked correctly, you should get a return code of 0, and you should see the generated .html file in the workspace directory (click on the orange Jupyter icon in the upper left).\r\n",
    "\r\n",
    "> Alternatively, you can download this report as .html via the **File** > **Download as** submenu, and then manually upload it into the workspace directory by clicking on the orange Jupyter icon in the upper left, then using the Upload button.\r\n",
    "\r\n",
    "> Once you've done this, you can submit your project by clicking on the \"Submit Project\" button in the lower right here. This will create and submit a zip file with this .ipynb doc and the .html or .pdf version you created. Congratulations!"
   ]
  },
  {
   "cell_type": "code",
   "execution_count": 72,
   "id": "16c0f635-477d-4933-ac2c-d95766197bfa",
   "metadata": {},
   "outputs": [],
   "source": [
    "system('python -m nbconvert --to pdf Explore_bikeshare_data.ipynb')"
   ]
  },
  {
   "cell_type": "markdown",
   "id": "87dc2730-1925-4357-b38a-42ab356469ec",
   "metadata": {},
   "source": []
  }
 ],
 "metadata": {
  "kernelspec": {
   "display_name": "R",
   "language": "R",
   "name": "ir"
  },
  "language_info": {
   "codemirror_mode": "r",
   "file_extension": ".r",
   "mimetype": "text/x-r-source",
   "name": "R",
   "pygments_lexer": "r",
   "version": "4.3.1"
  }
 },
 "nbformat": 4,
 "nbformat_minor": 5
}
